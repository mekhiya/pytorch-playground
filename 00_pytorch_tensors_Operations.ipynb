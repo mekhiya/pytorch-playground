{
  "nbformat": 4,
  "nbformat_minor": 0,
  "metadata": {
    "colab": {
      "provenance": [],
      "gpuType": "T4",
      "authorship_tag": "ABX9TyPuWQZrKslhkzeQofXQ02yV",
      "include_colab_link": true
    },
    "kernelspec": {
      "name": "python3",
      "display_name": "Python 3"
    },
    "language_info": {
      "name": "python"
    },
    "accelerator": "GPU"
  },
  "cells": [
    {
      "cell_type": "markdown",
      "metadata": {
        "id": "view-in-github",
        "colab_type": "text"
      },
      "source": [
        "<a href=\"https://colab.research.google.com/github/mekhiya/pytorch-playground/blob/main/00_pytorch_tensors_Operations.ipynb\" target=\"_parent\"><img src=\"https://colab.research.google.com/assets/colab-badge.svg\" alt=\"Open In Colab\"/></a>"
      ]
    },
    {
      "cell_type": "markdown",
      "source": [
        "## 00. PyTorch Fundamentals\n",
        "\n",
        "Resource notebook: https://www.learnpytorch.io/00_pytorch_fundamentals/"
      ],
      "metadata": {
        "id": "3XFwPPgXKUIi"
      }
    },
    {
      "cell_type": "code",
      "execution_count": null,
      "metadata": {
        "colab": {
          "base_uri": "https://localhost:8080/"
        },
        "id": "Urj10qK9Ivl2",
        "outputId": "1258d3a9-c5dd-4ef4-fb88-981dc2e7496b"
      },
      "outputs": [
        {
          "output_type": "stream",
          "name": "stdout",
          "text": [
            "2.1.0+cu118\n",
            "Hello I'm excited to learn PyTorch!\n"
          ]
        }
      ],
      "source": [
        "import torch\n",
        "import pandas as pd\n",
        "import numpy as np\n",
        "import matplotlib.pyplot as plt\n",
        "print(torch.__version__)\n",
        "print(\"Hello I'm excited to learn PyTorch!\")\n",
        "\n"
      ]
    },
    {
      "cell_type": "code",
      "source": [
        "!nvidia-smi"
      ],
      "metadata": {
        "colab": {
          "base_uri": "https://localhost:8080/"
        },
        "id": "KLwU1R6LLOOG",
        "outputId": "f10c4627-436e-4b0d-80fe-14149c5d39ae"
      },
      "execution_count": null,
      "outputs": [
        {
          "output_type": "stream",
          "name": "stdout",
          "text": [
            "Thu Nov  2 01:28:30 2023       \n",
            "+-----------------------------------------------------------------------------+\n",
            "| NVIDIA-SMI 525.105.17   Driver Version: 525.105.17   CUDA Version: 12.0     |\n",
            "|-------------------------------+----------------------+----------------------+\n",
            "| GPU  Name        Persistence-M| Bus-Id        Disp.A | Volatile Uncorr. ECC |\n",
            "| Fan  Temp  Perf  Pwr:Usage/Cap|         Memory-Usage | GPU-Util  Compute M. |\n",
            "|                               |                      |               MIG M. |\n",
            "|===============================+======================+======================|\n",
            "|   0  Tesla T4            Off  | 00000000:00:04.0 Off |                    0 |\n",
            "| N/A   43C    P8     9W /  70W |      0MiB / 15360MiB |      0%      Default |\n",
            "|                               |                      |                  N/A |\n",
            "+-------------------------------+----------------------+----------------------+\n",
            "                                                                               \n",
            "+-----------------------------------------------------------------------------+\n",
            "| Processes:                                                                  |\n",
            "|  GPU   GI   CI        PID   Type   Process name                  GPU Memory |\n",
            "|        ID   ID                                                   Usage      |\n",
            "|=============================================================================|\n",
            "|  No running processes found                                                 |\n",
            "+-----------------------------------------------------------------------------+\n"
          ]
        }
      ]
    },
    {
      "cell_type": "code",
      "source": [
        "# Scalar\n",
        "scalar = torch.tensor(1001)\n",
        "scalar\n",
        "scalar.item()\n",
        "scalar.ndim\n"
      ],
      "metadata": {
        "colab": {
          "base_uri": "https://localhost:8080/"
        },
        "id": "eni6q4-0VGuC",
        "outputId": "07786f66-83b7-49d6-9085-e58f56f91d11"
      },
      "execution_count": null,
      "outputs": [
        {
          "output_type": "execute_result",
          "data": {
            "text/plain": [
              "0"
            ]
          },
          "metadata": {},
          "execution_count": 3
        }
      ]
    },
    {
      "cell_type": "code",
      "source": [
        "# Vector\n",
        "\n",
        "vector = torch.tensor([7,7])\n",
        "vector\n",
        "#vector.ndim"
      ],
      "metadata": {
        "colab": {
          "base_uri": "https://localhost:8080/"
        },
        "id": "mWyak7jYZosz",
        "outputId": "afabfcfb-a612-4493-b047-ffdc77db791a"
      },
      "execution_count": null,
      "outputs": [
        {
          "output_type": "execute_result",
          "data": {
            "text/plain": [
              "tensor([7, 7])"
            ]
          },
          "metadata": {},
          "execution_count": 4
        }
      ]
    },
    {
      "cell_type": "code",
      "source": [
        "# MATRIX\n",
        "\n",
        "MATRIX = ([1,2], [4,5])\n",
        "#MATRIX[1]\n",
        "MATRIX"
      ],
      "metadata": {
        "colab": {
          "base_uri": "https://localhost:8080/"
        },
        "id": "4IY3RKhycnUK",
        "outputId": "42f392ec-8950-43ea-eb71-6b8cc7d37cd2"
      },
      "execution_count": null,
      "outputs": [
        {
          "output_type": "execute_result",
          "data": {
            "text/plain": [
              "([1, 2], [4, 5])"
            ]
          },
          "metadata": {},
          "execution_count": 5
        }
      ]
    },
    {
      "cell_type": "code",
      "source": [
        "random_tensor = torch.rand(3,4)\n",
        "random_tensor"
      ],
      "metadata": {
        "colab": {
          "base_uri": "https://localhost:8080/"
        },
        "id": "CVRyMDIpybj_",
        "outputId": "c0be73e2-a2e3-4c6e-867d-3dfd57ef3084"
      },
      "execution_count": null,
      "outputs": [
        {
          "output_type": "execute_result",
          "data": {
            "text/plain": [
              "tensor([[0.7866, 0.9384, 0.1700, 0.5181],\n",
              "        [0.1604, 0.2377, 0.2979, 0.9003],\n",
              "        [0.6609, 0.4120, 0.0508, 0.8256]])"
            ]
          },
          "metadata": {},
          "execution_count": 6
        }
      ]
    },
    {
      "cell_type": "code",
      "source": [
        "random_tensor.ndim"
      ],
      "metadata": {
        "colab": {
          "base_uri": "https://localhost:8080/"
        },
        "id": "wkuFoDRY0H5o",
        "outputId": "7d2b62eb-f9cc-4c34-e1df-73bec87352a4"
      },
      "execution_count": null,
      "outputs": [
        {
          "output_type": "execute_result",
          "data": {
            "text/plain": [
              "2"
            ]
          },
          "metadata": {},
          "execution_count": 7
        }
      ]
    },
    {
      "cell_type": "code",
      "source": [
        "random_tensor.shape"
      ],
      "metadata": {
        "colab": {
          "base_uri": "https://localhost:8080/"
        },
        "id": "e3ObgHyk0N4x",
        "outputId": "df846522-6769-4bb1-dd15-e6bc6a24f0d0"
      },
      "execution_count": null,
      "outputs": [
        {
          "output_type": "execute_result",
          "data": {
            "text/plain": [
              "torch.Size([3, 4])"
            ]
          },
          "metadata": {},
          "execution_count": 8
        }
      ]
    },
    {
      "cell_type": "code",
      "source": [
        "random_tensor[0,1]"
      ],
      "metadata": {
        "colab": {
          "base_uri": "https://localhost:8080/"
        },
        "id": "Z_P4y4Lu0ThK",
        "outputId": "7f1502ab-56ad-476f-abbb-38e9cb458cb2"
      },
      "execution_count": null,
      "outputs": [
        {
          "output_type": "execute_result",
          "data": {
            "text/plain": [
              "tensor(0.9384)"
            ]
          },
          "metadata": {},
          "execution_count": 9
        }
      ]
    },
    {
      "cell_type": "code",
      "source": [
        "### Create a range of tensors and tensors-1\n",
        "torch.arange(0, 10)"
      ],
      "metadata": {
        "colab": {
          "base_uri": "https://localhost:8080/"
        },
        "id": "iZ-2uYht0TOD",
        "outputId": "99124639-dffa-4b6f-ab7c-ea1ec08982a4"
      },
      "execution_count": null,
      "outputs": [
        {
          "output_type": "execute_result",
          "data": {
            "text/plain": [
              "tensor([0, 1, 2, 3, 4, 5, 6, 7, 8, 9])"
            ]
          },
          "metadata": {},
          "execution_count": 10
        }
      ]
    },
    {
      "cell_type": "code",
      "source": [
        "one_to_ten = torch.arange(1,11)\n",
        "one_to_ten"
      ],
      "metadata": {
        "colab": {
          "base_uri": "https://localhost:8080/"
        },
        "id": "M7sSBSQ54oGh",
        "outputId": "c74c2618-081b-40b8-90e2-402076700183"
      },
      "execution_count": null,
      "outputs": [
        {
          "output_type": "execute_result",
          "data": {
            "text/plain": [
              "tensor([ 1,  2,  3,  4,  5,  6,  7,  8,  9, 10])"
            ]
          },
          "metadata": {},
          "execution_count": 11
        }
      ]
    },
    {
      "cell_type": "code",
      "source": [
        "new_range_1 = torch.range(start=0, end=1000, step=8)\n",
        "new_range_1"
      ],
      "metadata": {
        "colab": {
          "base_uri": "https://localhost:8080/"
        },
        "id": "vy1CMggS4n8T",
        "outputId": "f42411c0-fc05-420a-eb5a-a9d6d2b735a2"
      },
      "execution_count": null,
      "outputs": [
        {
          "output_type": "stream",
          "name": "stderr",
          "text": [
            "<ipython-input-12-300443ff774a>:1: UserWarning: torch.range is deprecated and will be removed in a future release because its behavior is inconsistent with Python's range builtin. Instead, use torch.arange, which produces values in [start, end).\n",
            "  new_range_1 = torch.range(start=0, end=1000, step=8)\n"
          ]
        },
        {
          "output_type": "execute_result",
          "data": {
            "text/plain": [
              "tensor([   0.,    8.,   16.,   24.,   32.,   40.,   48.,   56.,   64.,   72.,\n",
              "          80.,   88.,   96.,  104.,  112.,  120.,  128.,  136.,  144.,  152.,\n",
              "         160.,  168.,  176.,  184.,  192.,  200.,  208.,  216.,  224.,  232.,\n",
              "         240.,  248.,  256.,  264.,  272.,  280.,  288.,  296.,  304.,  312.,\n",
              "         320.,  328.,  336.,  344.,  352.,  360.,  368.,  376.,  384.,  392.,\n",
              "         400.,  408.,  416.,  424.,  432.,  440.,  448.,  456.,  464.,  472.,\n",
              "         480.,  488.,  496.,  504.,  512.,  520.,  528.,  536.,  544.,  552.,\n",
              "         560.,  568.,  576.,  584.,  592.,  600.,  608.,  616.,  624.,  632.,\n",
              "         640.,  648.,  656.,  664.,  672.,  680.,  688.,  696.,  704.,  712.,\n",
              "         720.,  728.,  736.,  744.,  752.,  760.,  768.,  776.,  784.,  792.,\n",
              "         800.,  808.,  816.,  824.,  832.,  840.,  848.,  856.,  864.,  872.,\n",
              "         880.,  888.,  896.,  904.,  912.,  920.,  928.,  936.,  944.,  952.,\n",
              "         960.,  968.,  976.,  984.,  992., 1000.])"
            ]
          },
          "metadata": {},
          "execution_count": 12
        }
      ]
    },
    {
      "cell_type": "code",
      "source": [
        "###Tensor datatypes"
      ],
      "metadata": {
        "id": "yOGL6Hgx4n2k"
      },
      "execution_count": null,
      "outputs": []
    },
    {
      "cell_type": "code",
      "source": [
        "float_32_tensor = torch.tensor([3.0,2,0,4,5], dtype=None)\n",
        "float_32_tensor.dtype"
      ],
      "metadata": {
        "colab": {
          "base_uri": "https://localhost:8080/"
        },
        "id": "4utnmU5B71wl",
        "outputId": "6689013d-9d13-4fb5-b2e6-11c94ac5c1cc"
      },
      "execution_count": null,
      "outputs": [
        {
          "output_type": "execute_result",
          "data": {
            "text/plain": [
              "torch.float32"
            ]
          },
          "metadata": {},
          "execution_count": 14
        }
      ]
    },
    {
      "cell_type": "code",
      "source": [
        "float_32_tensor = torch.tensor([3.0,2,0,4,5], dtype=torch.float32, device=None, requires_grad=False)\n",
        "float_32_tensor.dtype"
      ],
      "metadata": {
        "colab": {
          "base_uri": "https://localhost:8080/"
        },
        "id": "QlojYzc171uA",
        "outputId": "72d23f4f-f240-4f9e-b125-e58b83dde640"
      },
      "execution_count": null,
      "outputs": [
        {
          "output_type": "execute_result",
          "data": {
            "text/plain": [
              "torch.float32"
            ]
          },
          "metadata": {},
          "execution_count": 15
        }
      ]
    },
    {
      "cell_type": "code",
      "source": [
        "float_16_tensor = torch.tensor([3.0,2,0,4,5], dtype=torch.float16, device=None, requires_grad=False)\n",
        "float_16_tensor.dtype"
      ],
      "metadata": {
        "colab": {
          "base_uri": "https://localhost:8080/"
        },
        "id": "Z3YcHzYX71rY",
        "outputId": "a613eaf2-f6f0-4d7a-febc-b39db2fd1a71"
      },
      "execution_count": null,
      "outputs": [
        {
          "output_type": "execute_result",
          "data": {
            "text/plain": [
              "torch.float16"
            ]
          },
          "metadata": {},
          "execution_count": 16
        }
      ]
    },
    {
      "cell_type": "code",
      "source": [
        "float_32_tensor * float_16_tensor"
      ],
      "metadata": {
        "colab": {
          "base_uri": "https://localhost:8080/"
        },
        "id": "CZoJ7nhz71gb",
        "outputId": "f6f5234e-78b7-456b-fa25-e5067f6ee40b"
      },
      "execution_count": null,
      "outputs": [
        {
          "output_type": "execute_result",
          "data": {
            "text/plain": [
              "tensor([ 9.,  4.,  0., 16., 25.])"
            ]
          },
          "metadata": {},
          "execution_count": 17
        }
      ]
    },
    {
      "cell_type": "code",
      "source": [
        "float_16_tensor * float_32_tensor"
      ],
      "metadata": {
        "colab": {
          "base_uri": "https://localhost:8080/"
        },
        "id": "sQHZ6buU4nvn",
        "outputId": "b009568b-9196-46ed-ae94-fc50629797db"
      },
      "execution_count": null,
      "outputs": [
        {
          "output_type": "execute_result",
          "data": {
            "text/plain": [
              "tensor([ 9.,  4.,  0., 16., 25.])"
            ]
          },
          "metadata": {},
          "execution_count": 18
        }
      ]
    },
    {
      "cell_type": "markdown",
      "source": [
        "### tensor.dtype\n",
        "\n",
        "tensor.shape\n",
        "\n",
        "tensor.device"
      ],
      "metadata": {
        "id": "57uaA2lis2ht"
      }
    },
    {
      "cell_type": "code",
      "source": [
        "some_tensor = torch.rand(3,4)\n",
        "some_tensor"
      ],
      "metadata": {
        "id": "V4w6cLm24mi8",
        "colab": {
          "base_uri": "https://localhost:8080/"
        },
        "outputId": "c2c61b94-5a49-4b69-ec05-86a48306af70"
      },
      "execution_count": null,
      "outputs": [
        {
          "output_type": "execute_result",
          "data": {
            "text/plain": [
              "tensor([[0.7619, 0.2388, 0.9488, 0.0346],\n",
              "        [0.0607, 0.4527, 0.3997, 0.3772],\n",
              "        [0.8191, 0.1569, 0.5007, 0.9699]])"
            ]
          },
          "metadata": {},
          "execution_count": 19
        }
      ]
    },
    {
      "cell_type": "code",
      "source": [
        "print(some_tensor)\n",
        "print(f\"Datattype of tensor: {some_tensor.dtype}\")\n",
        "print(f\"shape of tensor: {some_tensor.shape}\")\n",
        "print(f\"device of tensor: {some_tensor.device}\")"
      ],
      "metadata": {
        "colab": {
          "base_uri": "https://localhost:8080/"
        },
        "id": "7AvyAwkktdV-",
        "outputId": "533ed166-ea6e-4d38-88f0-cb51da15891b"
      },
      "execution_count": null,
      "outputs": [
        {
          "output_type": "stream",
          "name": "stdout",
          "text": [
            "tensor([[0.7619, 0.2388, 0.9488, 0.0346],\n",
            "        [0.0607, 0.4527, 0.3997, 0.3772],\n",
            "        [0.8191, 0.1569, 0.5007, 0.9699]])\n",
            "Datattype of tensor: torch.float32\n",
            "shape of tensor: torch.Size([3, 4])\n",
            "device of tensor: cpu\n"
          ]
        }
      ]
    },
    {
      "cell_type": "code",
      "source": [
        "torch.matmul(torch.rand(2,3) , torch.rand(3,4))"
      ],
      "metadata": {
        "colab": {
          "base_uri": "https://localhost:8080/"
        },
        "id": "OQK6rdj4tdTa",
        "outputId": "5fc3e4fd-8df9-4efd-d341-9e6cb437517d"
      },
      "execution_count": null,
      "outputs": [
        {
          "output_type": "execute_result",
          "data": {
            "text/plain": [
              "tensor([[0.1626, 0.9575, 0.8800, 1.0209],\n",
              "        [0.1780, 0.5088, 0.6103, 0.7442]])"
            ]
          },
          "metadata": {},
          "execution_count": 21
        }
      ]
    },
    {
      "cell_type": "code",
      "source": [
        "torch.rand(2,3)"
      ],
      "metadata": {
        "id": "NUgMiwK2tdPL",
        "colab": {
          "base_uri": "https://localhost:8080/"
        },
        "outputId": "9e7e050c-d0ba-4359-ab2e-5c20e72688fb"
      },
      "execution_count": null,
      "outputs": [
        {
          "output_type": "execute_result",
          "data": {
            "text/plain": [
              "tensor([[0.4645, 0.9349, 0.0871],\n",
              "        [0.7210, 0.9192, 0.1239]])"
            ]
          },
          "metadata": {},
          "execution_count": 22
        }
      ]
    },
    {
      "cell_type": "code",
      "source": [
        "torch.matmul(torch.tensor([[1, 2, 3],\n",
        "        [4, 5, 6]]),\n",
        "            torch.tensor([[7, 10],\n",
        "        [8, 11],\n",
        "        [9, 12]]))"
      ],
      "metadata": {
        "id": "Hw59UakrtdFR",
        "colab": {
          "base_uri": "https://localhost:8080/"
        },
        "outputId": "267e924d-7b01-4658-c6cf-5c1a43b489ae"
      },
      "execution_count": null,
      "outputs": [
        {
          "output_type": "execute_result",
          "data": {
            "text/plain": [
              "tensor([[ 50,  68],\n",
              "        [122, 167]])"
            ]
          },
          "metadata": {},
          "execution_count": 23
        }
      ]
    },
    {
      "cell_type": "code",
      "source": [
        "tensor_A =  torch.tensor([[7, 10],\n",
        "        [8, 11],\n",
        "        [9, 12]])\n",
        "tensor_A"
      ],
      "metadata": {
        "colab": {
          "base_uri": "https://localhost:8080/"
        },
        "id": "_n6wJQSCWnnR",
        "outputId": "859cb115-4baf-45ad-b2e2-53721d5a8d08"
      },
      "execution_count": null,
      "outputs": [
        {
          "output_type": "execute_result",
          "data": {
            "text/plain": [
              "tensor([[ 7, 10],\n",
              "        [ 8, 11],\n",
              "        [ 9, 12]])"
            ]
          },
          "metadata": {},
          "execution_count": 24
        }
      ]
    },
    {
      "cell_type": "code",
      "source": [
        "tensor_A.T"
      ],
      "metadata": {
        "colab": {
          "base_uri": "https://localhost:8080/"
        },
        "id": "0hhzTmKWWneS",
        "outputId": "9f021fc9-19f6-45bf-c233-3503afbe6fae"
      },
      "execution_count": null,
      "outputs": [
        {
          "output_type": "execute_result",
          "data": {
            "text/plain": [
              "tensor([[ 7,  8,  9],\n",
              "        [10, 11, 12]])"
            ]
          },
          "metadata": {},
          "execution_count": 25
        }
      ]
    },
    {
      "cell_type": "code",
      "source": [
        "print(f\"Original shapes: tensor_A ={tensor_A.shape}\")"
      ],
      "metadata": {
        "colab": {
          "base_uri": "https://localhost:8080/"
        },
        "id": "l_sR364qWmf_",
        "outputId": "3adf86cb-da22-41ed-c318-2b3a6c76b2fd"
      },
      "execution_count": null,
      "outputs": [
        {
          "output_type": "stream",
          "name": "stdout",
          "text": [
            "Original shapes: tensor_A =torch.Size([3, 2])\n"
          ]
        }
      ]
    },
    {
      "cell_type": "code",
      "source": [
        "print(f\"Transpose shapes: tensor_A ={tensor_A.T.shape}\")"
      ],
      "metadata": {
        "colab": {
          "base_uri": "https://localhost:8080/"
        },
        "id": "lHWjj6Epc1sA",
        "outputId": "6ddd5808-4e0c-4d72-eac6-775aabc40922"
      },
      "execution_count": null,
      "outputs": [
        {
          "output_type": "stream",
          "name": "stdout",
          "text": [
            "Transpose shapes: tensor_A =torch.Size([2, 3])\n"
          ]
        }
      ]
    },
    {
      "cell_type": "code",
      "source": [
        "x = torch.arange(0,100,10)\n",
        "x"
      ],
      "metadata": {
        "colab": {
          "base_uri": "https://localhost:8080/"
        },
        "id": "2e8ELj-XeiNz",
        "outputId": "de46f906-6543-428a-ea5b-516a3ee6acd9"
      },
      "execution_count": null,
      "outputs": [
        {
          "output_type": "execute_result",
          "data": {
            "text/plain": [
              "tensor([ 0, 10, 20, 30, 40, 50, 60, 70, 80, 90])"
            ]
          },
          "metadata": {},
          "execution_count": 28
        }
      ]
    },
    {
      "cell_type": "code",
      "source": [
        "torch.min(x), torch.max(x) , torch.sum(x)"
      ],
      "metadata": {
        "colab": {
          "base_uri": "https://localhost:8080/"
        },
        "id": "kSNxK0kgegBZ",
        "outputId": "46d39c88-049d-4353-b9de-200bf9532697"
      },
      "execution_count": null,
      "outputs": [
        {
          "output_type": "execute_result",
          "data": {
            "text/plain": [
              "(tensor(0), tensor(90), tensor(450))"
            ]
          },
          "metadata": {},
          "execution_count": 29
        }
      ]
    },
    {
      "cell_type": "code",
      "source": [
        "x.min(), x.max() , x.sum()"
      ],
      "metadata": {
        "colab": {
          "base_uri": "https://localhost:8080/"
        },
        "id": "aR0A3i38fFsd",
        "outputId": "02e9d7f0-54d5-4c8e-bb9c-784a2f5d9c20"
      },
      "execution_count": null,
      "outputs": [
        {
          "output_type": "execute_result",
          "data": {
            "text/plain": [
              "(tensor(0), tensor(90), tensor(450))"
            ]
          },
          "metadata": {},
          "execution_count": 30
        }
      ]
    },
    {
      "cell_type": "code",
      "source": [
        "# create a tensor\n",
        "x = torch.arange(0,100,10)\n",
        "x, x.dtype"
      ],
      "metadata": {
        "colab": {
          "base_uri": "https://localhost:8080/"
        },
        "id": "v-Q10ZYVer6k",
        "outputId": "66244add-0cd6-4f47-f127-36b44502c3aa"
      },
      "execution_count": null,
      "outputs": [
        {
          "output_type": "execute_result",
          "data": {
            "text/plain": [
              "(tensor([ 0, 10, 20, 30, 40, 50, 60, 70, 80, 90]), torch.int64)"
            ]
          },
          "metadata": {},
          "execution_count": 31
        }
      ]
    },
    {
      "cell_type": "code",
      "source": [
        "torch.mean(x.type(torch.float32))"
      ],
      "metadata": {
        "colab": {
          "base_uri": "https://localhost:8080/"
        },
        "id": "eYiGOPXoer3I",
        "outputId": "35e23857-a2d5-49bf-daa2-ffc788641990"
      },
      "execution_count": null,
      "outputs": [
        {
          "output_type": "execute_result",
          "data": {
            "text/plain": [
              "tensor(45.)"
            ]
          },
          "metadata": {},
          "execution_count": 32
        }
      ]
    },
    {
      "cell_type": "code",
      "source": [
        "x.type(torch.float32).mean()"
      ],
      "metadata": {
        "colab": {
          "base_uri": "https://localhost:8080/"
        },
        "id": "E3v-Jgr6erz1",
        "outputId": "8b05779c-1845-4e15-d5e8-017724ff2123"
      },
      "execution_count": null,
      "outputs": [
        {
          "output_type": "execute_result",
          "data": {
            "text/plain": [
              "tensor(45.)"
            ]
          },
          "metadata": {},
          "execution_count": 33
        }
      ]
    },
    {
      "cell_type": "code",
      "source": [
        "x.argmin(), x.argmax()"
      ],
      "metadata": {
        "colab": {
          "base_uri": "https://localhost:8080/"
        },
        "id": "R4fADdmverwl",
        "outputId": "6ad42623-570b-4859-c2f9-f141c65dc4e8"
      },
      "execution_count": null,
      "outputs": [
        {
          "output_type": "execute_result",
          "data": {
            "text/plain": [
              "(tensor(0), tensor(9))"
            ]
          },
          "metadata": {},
          "execution_count": 34
        }
      ]
    },
    {
      "cell_type": "code",
      "source": [
        "x[0], x[7]"
      ],
      "metadata": {
        "colab": {
          "base_uri": "https://localhost:8080/"
        },
        "id": "ioHSMoOdeqaI",
        "outputId": "dbc36c96-1255-4618-ef90-ef690e3de881"
      },
      "execution_count": null,
      "outputs": [
        {
          "output_type": "execute_result",
          "data": {
            "text/plain": [
              "(tensor(0), tensor(70))"
            ]
          },
          "metadata": {},
          "execution_count": 35
        }
      ]
    },
    {
      "cell_type": "code",
      "source": [
        "new_x = torch.arange(1.,10.)\n",
        "new_x, new_x.shape"
      ],
      "metadata": {
        "colab": {
          "base_uri": "https://localhost:8080/"
        },
        "id": "XGOOOyxikv8T",
        "outputId": "3a0881d2-d491-47be-caf7-0120d8c49fbc"
      },
      "execution_count": null,
      "outputs": [
        {
          "output_type": "execute_result",
          "data": {
            "text/plain": [
              "(tensor([1., 2., 3., 4., 5., 6., 7., 8., 9.]), torch.Size([9]))"
            ]
          },
          "metadata": {},
          "execution_count": 36
        }
      ]
    },
    {
      "cell_type": "code",
      "source": [
        "reshaped_x = new_x.reshape(3,3)\n",
        "reshaped_x"
      ],
      "metadata": {
        "colab": {
          "base_uri": "https://localhost:8080/"
        },
        "id": "Z9mvZ-yUkv43",
        "outputId": "d6ac2192-7909-411b-a9c9-2496364cf034"
      },
      "execution_count": null,
      "outputs": [
        {
          "output_type": "execute_result",
          "data": {
            "text/plain": [
              "tensor([[1., 2., 3.],\n",
              "        [4., 5., 6.],\n",
              "        [7., 8., 9.]])"
            ]
          },
          "metadata": {},
          "execution_count": 37
        }
      ]
    },
    {
      "cell_type": "code",
      "source": [
        "z = x.view(1,10)\n",
        "z, z.shape"
      ],
      "metadata": {
        "colab": {
          "base_uri": "https://localhost:8080/"
        },
        "id": "F3eOo07pkv1v",
        "outputId": "08afac66-4fd7-4c46-b03b-1197332ef2ab"
      },
      "execution_count": null,
      "outputs": [
        {
          "output_type": "execute_result",
          "data": {
            "text/plain": [
              "(tensor([[ 0, 10, 20, 30, 40, 50, 60, 70, 80, 90]]), torch.Size([1, 10]))"
            ]
          },
          "metadata": {},
          "execution_count": 38
        }
      ]
    },
    {
      "cell_type": "code",
      "source": [
        "z[:, 1] = 55\n",
        "z, x"
      ],
      "metadata": {
        "colab": {
          "base_uri": "https://localhost:8080/"
        },
        "id": "aKFAjThikvyn",
        "outputId": "94dbe345-0625-4227-cbf5-71d228289cbc"
      },
      "execution_count": null,
      "outputs": [
        {
          "output_type": "execute_result",
          "data": {
            "text/plain": [
              "(tensor([[ 0, 55, 20, 30, 40, 50, 60, 70, 80, 90]]),\n",
              " tensor([ 0, 55, 20, 30, 40, 50, 60, 70, 80, 90]))"
            ]
          },
          "metadata": {},
          "execution_count": 39
        }
      ]
    },
    {
      "cell_type": "code",
      "source": [
        "stacked_x = torch.stack([x,x,x,x], dim=1)\n",
        "stacked_x, stacked_x.shape"
      ],
      "metadata": {
        "colab": {
          "base_uri": "https://localhost:8080/"
        },
        "id": "EXtqsp18kvve",
        "outputId": "85d4e82b-a0bf-4a7f-9505-9f7f65dc28fc"
      },
      "execution_count": null,
      "outputs": [
        {
          "output_type": "execute_result",
          "data": {
            "text/plain": [
              "(tensor([[ 0,  0,  0,  0],\n",
              "         [55, 55, 55, 55],\n",
              "         [20, 20, 20, 20],\n",
              "         [30, 30, 30, 30],\n",
              "         [40, 40, 40, 40],\n",
              "         [50, 50, 50, 50],\n",
              "         [60, 60, 60, 60],\n",
              "         [70, 70, 70, 70],\n",
              "         [80, 80, 80, 80],\n",
              "         [90, 90, 90, 90]]),\n",
              " torch.Size([10, 4]))"
            ]
          },
          "metadata": {},
          "execution_count": 40
        }
      ]
    },
    {
      "cell_type": "code",
      "source": [
        "a = torch.arange(1.,13.)\n",
        "a"
      ],
      "metadata": {
        "colab": {
          "base_uri": "https://localhost:8080/"
        },
        "id": "TJrLqhBtkvsn",
        "outputId": "1983985c-7fc5-44b7-fd87-ae36efdd1e33"
      },
      "execution_count": null,
      "outputs": [
        {
          "output_type": "execute_result",
          "data": {
            "text/plain": [
              "tensor([ 1.,  2.,  3.,  4.,  5.,  6.,  7.,  8.,  9., 10., 11., 12.])"
            ]
          },
          "metadata": {},
          "execution_count": 41
        }
      ]
    },
    {
      "cell_type": "code",
      "source": [
        "v = a.view(4,3)\n",
        "v, v.shape"
      ],
      "metadata": {
        "colab": {
          "base_uri": "https://localhost:8080/"
        },
        "id": "e6bft-ttkuE8",
        "outputId": "eb5e38db-d3e7-4f9b-a767-a07209328089"
      },
      "execution_count": null,
      "outputs": [
        {
          "output_type": "execute_result",
          "data": {
            "text/plain": [
              "(tensor([[ 1.,  2.,  3.],\n",
              "         [ 4.,  5.,  6.],\n",
              "         [ 7.,  8.,  9.],\n",
              "         [10., 11., 12.]]),\n",
              " torch.Size([4, 3]))"
            ]
          },
          "metadata": {},
          "execution_count": 42
        }
      ]
    },
    {
      "cell_type": "code",
      "source": [
        "new_v = v.squeeze(dim=1)\n",
        "new_v, new_v.shape"
      ],
      "metadata": {
        "colab": {
          "base_uri": "https://localhost:8080/"
        },
        "id": "MB9zhqGrtLue",
        "outputId": "c84d494f-1de4-4256-bf0a-37acce0511f8"
      },
      "execution_count": null,
      "outputs": [
        {
          "output_type": "execute_result",
          "data": {
            "text/plain": [
              "(tensor([[ 1.,  2.,  3.],\n",
              "         [ 4.,  5.,  6.],\n",
              "         [ 7.,  8.,  9.],\n",
              "         [10., 11., 12.]]),\n",
              " torch.Size([4, 3]))"
            ]
          },
          "metadata": {},
          "execution_count": 43
        }
      ]
    },
    {
      "cell_type": "code",
      "source": [
        "new_b = torch.rand([2,3])\n",
        "new_b, new_b.shape"
      ],
      "metadata": {
        "colab": {
          "base_uri": "https://localhost:8080/"
        },
        "id": "kYO5bH6NtLrF",
        "outputId": "1de781c9-670c-417d-994e-7dd91987d5cc"
      },
      "execution_count": null,
      "outputs": [
        {
          "output_type": "execute_result",
          "data": {
            "text/plain": [
              "(tensor([[0.4487, 0.4115, 0.4874],\n",
              "         [0.2085, 0.9603, 0.0769]]),\n",
              " torch.Size([2, 3]))"
            ]
          },
          "metadata": {},
          "execution_count": 44
        }
      ]
    },
    {
      "cell_type": "code",
      "source": [
        "new_bb = new_b.squeeze()\n",
        "new_bb, new_bb.shape"
      ],
      "metadata": {
        "colab": {
          "base_uri": "https://localhost:8080/"
        },
        "id": "Dx9ZLL8otLj1",
        "outputId": "8df34b5e-a078-4876-a46c-962c35514fc4"
      },
      "execution_count": null,
      "outputs": [
        {
          "output_type": "execute_result",
          "data": {
            "text/plain": [
              "(tensor([[0.4487, 0.4115, 0.4874],\n",
              "         [0.2085, 0.9603, 0.0769]]),\n",
              " torch.Size([2, 3]))"
            ]
          },
          "metadata": {},
          "execution_count": 45
        }
      ]
    },
    {
      "cell_type": "code",
      "source": [
        "x_original = torch.rand(size=(2,3))\n",
        "x_permuted = x_original.permute(1,0)\n",
        "x_original.shape, x_permuted.shape"
      ],
      "metadata": {
        "colab": {
          "base_uri": "https://localhost:8080/"
        },
        "id": "DNBoS-b4dFEc",
        "outputId": "63330553-a738-46a5-dc01-4a5429ca6a62"
      },
      "execution_count": null,
      "outputs": [
        {
          "output_type": "execute_result",
          "data": {
            "text/plain": [
              "(torch.Size([2, 3]), torch.Size([3, 2]))"
            ]
          },
          "metadata": {},
          "execution_count": 46
        }
      ]
    },
    {
      "cell_type": "code",
      "source": [
        "x_original"
      ],
      "metadata": {
        "colab": {
          "base_uri": "https://localhost:8080/"
        },
        "id": "yHMzfe8BdFCM",
        "outputId": "f5a316b5-3cdd-461e-d70b-6e33f9240739"
      },
      "execution_count": null,
      "outputs": [
        {
          "output_type": "execute_result",
          "data": {
            "text/plain": [
              "tensor([[0.4037, 0.6565, 0.8088],\n",
              "        [0.4435, 0.2845, 0.9270]])"
            ]
          },
          "metadata": {},
          "execution_count": 47
        }
      ]
    },
    {
      "cell_type": "code",
      "source": [
        "x_original[:,2]"
      ],
      "metadata": {
        "colab": {
          "base_uri": "https://localhost:8080/"
        },
        "id": "9QGNcEqfdE_q",
        "outputId": "384506d0-e676-4609-e83b-e031281ccaff"
      },
      "execution_count": null,
      "outputs": [
        {
          "output_type": "execute_result",
          "data": {
            "text/plain": [
              "tensor([0.8088, 0.9270])"
            ]
          },
          "metadata": {},
          "execution_count": 48
        }
      ]
    },
    {
      "cell_type": "code",
      "source": [
        "array = np.arange(1.,8.)\n",
        "tensor = torch.from_numpy(array)\n",
        "array, tensor"
      ],
      "metadata": {
        "colab": {
          "base_uri": "https://localhost:8080/"
        },
        "id": "tiBxDbGGdE8N",
        "outputId": "f16e7709-b673-469a-ca08-694bc52693e4"
      },
      "execution_count": null,
      "outputs": [
        {
          "output_type": "execute_result",
          "data": {
            "text/plain": [
              "(array([1., 2., 3., 4., 5., 6., 7.]),\n",
              " tensor([1., 2., 3., 4., 5., 6., 7.], dtype=torch.float64))"
            ]
          },
          "metadata": {},
          "execution_count": 49
        }
      ]
    },
    {
      "cell_type": "code",
      "source": [
        "random_tensor_A = torch.rand(3,4)\n",
        "random_tensor_B = torch.rand(3,4)\n",
        "\n",
        "print(f\"random_tensor_A is : \\n{random_tensor_A}\")\n",
        "print(f\"random_tensor_B is : \\n{random_tensor_B}\")\n",
        "print(f\"Equal check : \\n{random_tensor_A == random_tensor_B}\")\n",
        "\n",
        "\n"
      ],
      "metadata": {
        "colab": {
          "base_uri": "https://localhost:8080/"
        },
        "id": "-pN1dztLdE31",
        "outputId": "3ce66845-fe26-4ddf-96ee-0673d54d6f26"
      },
      "execution_count": null,
      "outputs": [
        {
          "output_type": "stream",
          "name": "stdout",
          "text": [
            "random_tensor_A is : \n",
            "tensor([[0.5636, 0.7428, 0.0958, 0.6391],\n",
            "        [0.4936, 0.3614, 0.8955, 0.4455],\n",
            "        [0.5016, 0.7443, 0.3756, 0.9221]])\n",
            "random_tensor_B is : \n",
            "tensor([[0.2104, 0.7920, 0.3452, 0.8350],\n",
            "        [0.7519, 0.4405, 0.4317, 0.4458],\n",
            "        [0.8745, 0.5240, 0.7799, 0.8360]])\n",
            "Equal check : \n",
            "tensor([[False, False, False, False],\n",
            "        [False, False, False, False],\n",
            "        [False, False, False, False]])\n"
          ]
        }
      ]
    },
    {
      "cell_type": "code",
      "source": [
        "\n",
        "RANDOM_SEED = 42\n",
        "torch.manual_seed(RANDOM_SEED)\n",
        "random_tensor_C = torch.rand(3,4)\n",
        "torch.manual_seed(RANDOM_SEED)\n",
        "random_tensor_D = torch.rand(3,4)\n",
        "\n",
        "print(f\"random_tensor_C is : \\n{random_tensor_C}\")\n",
        "print(f\"random_tensor_D is : \\n{random_tensor_D}\")\n",
        "print(f\"Equal check : \\n{random_tensor_C == random_tensor_D}\")\n",
        "\n"
      ],
      "metadata": {
        "colab": {
          "base_uri": "https://localhost:8080/"
        },
        "id": "TkhycH2LdCt4",
        "outputId": "8088c88c-5181-45f3-b83a-c028be773714"
      },
      "execution_count": null,
      "outputs": [
        {
          "output_type": "stream",
          "name": "stdout",
          "text": [
            "random_tensor_C is : \n",
            "tensor([[0.8823, 0.9150, 0.3829, 0.9593],\n",
            "        [0.3904, 0.6009, 0.2566, 0.7936],\n",
            "        [0.9408, 0.1332, 0.9346, 0.5936]])\n",
            "random_tensor_D is : \n",
            "tensor([[0.8823, 0.9150, 0.3829, 0.9593],\n",
            "        [0.3904, 0.6009, 0.2566, 0.7936],\n",
            "        [0.9408, 0.1332, 0.9346, 0.5936]])\n",
            "Equal check : \n",
            "tensor([[True, True, True, True],\n",
            "        [True, True, True, True],\n",
            "        [True, True, True, True]])\n"
          ]
        }
      ]
    },
    {
      "cell_type": "code",
      "source": [
        "!nvidia-smi"
      ],
      "metadata": {
        "colab": {
          "base_uri": "https://localhost:8080/"
        },
        "id": "M0RevQjWtJ11",
        "outputId": "c381c292-9582-4d9d-cdb6-d4660e3f5ea0"
      },
      "execution_count": null,
      "outputs": [
        {
          "output_type": "stream",
          "name": "stdout",
          "text": [
            "Thu Nov  2 01:28:31 2023       \n",
            "+-----------------------------------------------------------------------------+\n",
            "| NVIDIA-SMI 525.105.17   Driver Version: 525.105.17   CUDA Version: 12.0     |\n",
            "|-------------------------------+----------------------+----------------------+\n",
            "| GPU  Name        Persistence-M| Bus-Id        Disp.A | Volatile Uncorr. ECC |\n",
            "| Fan  Temp  Perf  Pwr:Usage/Cap|         Memory-Usage | GPU-Util  Compute M. |\n",
            "|                               |                      |               MIG M. |\n",
            "|===============================+======================+======================|\n",
            "|   0  Tesla T4            Off  | 00000000:00:04.0 Off |                    0 |\n",
            "| N/A   43C    P8     9W /  70W |      0MiB / 15360MiB |      0%      Default |\n",
            "|                               |                      |                  N/A |\n",
            "+-------------------------------+----------------------+----------------------+\n",
            "                                                                               \n",
            "+-----------------------------------------------------------------------------+\n",
            "| Processes:                                                                  |\n",
            "|  GPU   GI   CI        PID   Type   Process name                  GPU Memory |\n",
            "|        ID   ID                                                   Usage      |\n",
            "|=============================================================================|\n",
            "|  No running processes found                                                 |\n",
            "+-----------------------------------------------------------------------------+\n"
          ]
        }
      ]
    },
    {
      "cell_type": "code",
      "source": [
        "torch.cuda.is_available()"
      ],
      "metadata": {
        "colab": {
          "base_uri": "https://localhost:8080/"
        },
        "id": "o8h3dfvt2WxD",
        "outputId": "680c6091-5d36-4fd6-b3f3-4a9c38a11335"
      },
      "execution_count": null,
      "outputs": [
        {
          "output_type": "execute_result",
          "data": {
            "text/plain": [
              "True"
            ]
          },
          "metadata": {},
          "execution_count": 53
        }
      ]
    },
    {
      "cell_type": "code",
      "source": [
        "device = \"cuda\" if torch.cuda.is_available() else \"cpu\"\n",
        "device"
      ],
      "metadata": {
        "colab": {
          "base_uri": "https://localhost:8080/",
          "height": 35
        },
        "id": "r8Mu1M-Q2WuW",
        "outputId": "d7d8c8f3-3c58-43d6-c57c-d05254d7a17e"
      },
      "execution_count": null,
      "outputs": [
        {
          "output_type": "execute_result",
          "data": {
            "text/plain": [
              "'cuda'"
            ],
            "application/vnd.google.colaboratory.intrinsic+json": {
              "type": "string"
            }
          },
          "metadata": {},
          "execution_count": 54
        }
      ]
    },
    {
      "cell_type": "code",
      "source": [
        "torch.cuda.device_count()"
      ],
      "metadata": {
        "colab": {
          "base_uri": "https://localhost:8080/"
        },
        "id": "S7AT5cKm2WrD",
        "outputId": "11e74477-b4b5-4526-bddd-d7c8d8fe1f77"
      },
      "execution_count": null,
      "outputs": [
        {
          "output_type": "execute_result",
          "data": {
            "text/plain": [
              "1"
            ]
          },
          "metadata": {},
          "execution_count": 55
        }
      ]
    },
    {
      "cell_type": "code",
      "source": [
        "tensor = torch.tensor([1,2,3], device=\"cpu\")\n",
        "tensor, tensor.device"
      ],
      "metadata": {
        "colab": {
          "base_uri": "https://localhost:8080/"
        },
        "id": "HxljciMD2Wmz",
        "outputId": "e1163f73-a37a-4a31-a82d-7d1f46509c81"
      },
      "execution_count": null,
      "outputs": [
        {
          "output_type": "execute_result",
          "data": {
            "text/plain": [
              "(tensor([1, 2, 3]), device(type='cpu'))"
            ]
          },
          "metadata": {},
          "execution_count": 56
        }
      ]
    },
    {
      "cell_type": "code",
      "source": [
        "# device = \"cuda\" if torch.cuda.is_available() else \"cpu\"\n",
        "\n",
        "tensorAAA = torch.tensor([1,2,3])\n",
        "tensorAAA, tensorAAA.device\n",
        "\n",
        "tensor_on_gpu = tensorAAA.to(device)\n",
        "tensor_on_gpu.device"
      ],
      "metadata": {
        "colab": {
          "base_uri": "https://localhost:8080/"
        },
        "id": "4_zOiiBh2VZi",
        "outputId": "18f15cfe-64ab-40bf-8d64-2231bb1a5f54"
      },
      "execution_count": null,
      "outputs": [
        {
          "output_type": "execute_result",
          "data": {
            "text/plain": [
              "device(type='cuda', index=0)"
            ]
          },
          "metadata": {},
          "execution_count": 57
        }
      ]
    },
    {
      "cell_type": "code",
      "source": [
        "tensor_back_on_cpu = tensor_on_gpu.cpu().numpy()\n",
        "tensor_back_on_cpu"
      ],
      "metadata": {
        "colab": {
          "base_uri": "https://localhost:8080/"
        },
        "id": "DMSx3mqY6ILu",
        "outputId": "c6c6d906-be36-4009-ace2-1502453caf1b"
      },
      "execution_count": null,
      "outputs": [
        {
          "output_type": "execute_result",
          "data": {
            "text/plain": [
              "array([1, 2, 3])"
            ]
          },
          "metadata": {},
          "execution_count": 58
        }
      ]
    }
  ]
}